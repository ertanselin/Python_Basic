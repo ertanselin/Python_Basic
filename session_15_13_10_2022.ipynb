{
 "cells": [
  {
   "cell_type": "markdown",
   "metadata": {},
   "source": [
    "# for loops"
   ]
  },
  {
   "cell_type": "markdown",
   "metadata": {},
   "source": [
    "for değişken in iterable:\n",
    "    işlem satırı"
   ]
  },
  {
   "cell_type": "code",
   "execution_count": 1,
   "metadata": {},
   "outputs": [
    {
     "name": "stdout",
     "output_type": "stream",
     "text": [
      "t\n",
      "e\n",
      "c\n",
      "h\n",
      "p\n",
      "r\n",
      "o\n"
     ]
    }
   ],
   "source": [
    "for i in \"techpro\":\n",
    "    print(i)"
   ]
  },
  {
   "cell_type": "code",
   "execution_count": 2,
   "metadata": {},
   "outputs": [
    {
     "name": "stdout",
     "output_type": "stream",
     "text": [
      "t-e-c-h-p-r-o-"
     ]
    }
   ],
   "source": [
    "for i in \"techpro\":\n",
    "    print(i, end=\"-\")"
   ]
  },
  {
   "cell_type": "code",
   "execution_count": 3,
   "metadata": {},
   "outputs": [],
   "source": [
    "x = [1, 2, 3, 4, 5]"
   ]
  },
  {
   "cell_type": "code",
   "execution_count": 4,
   "metadata": {},
   "outputs": [
    {
     "name": "stdout",
     "output_type": "stream",
     "text": [
      "1\n",
      "2\n",
      "3\n",
      "4\n",
      "5\n"
     ]
    }
   ],
   "source": [
    "for index in x:\n",
    "    print(index)"
   ]
  },
  {
   "cell_type": "code",
   "execution_count": 5,
   "metadata": {},
   "outputs": [
    {
     "name": "stdout",
     "output_type": "stream",
     "text": [
      "1\n",
      "4\n",
      "9\n",
      "16\n",
      "25\n"
     ]
    }
   ],
   "source": [
    "x = [1, 2, 3, 4, 5]\n",
    "\n",
    "\n",
    "for i in x:\n",
    "    print(i ** 2)"
   ]
  },
  {
   "cell_type": "code",
   "execution_count": 6,
   "metadata": {},
   "outputs": [],
   "source": [
    "names = [\"burçak\",\"şeyma\",\"yusuf\",\"hacer\",\"furkan\"]"
   ]
  },
  {
   "cell_type": "code",
   "execution_count": 10,
   "metadata": {},
   "outputs": [
    {
     "name": "stdout",
     "output_type": "stream",
     "text": [
      "Merhaba Burçak\n",
      "Merhaba Şeyma\n",
      "Merhaba Yusuf\n",
      "Merhaba Hacer\n",
      "Merhaba Furkan\n"
     ]
    }
   ],
   "source": [
    "for name in names:\n",
    "    print(f\"Merhaba {name}\".title())"
   ]
  },
  {
   "cell_type": "code",
   "execution_count": null,
   "metadata": {},
   "outputs": [],
   "source": [
    "\"t-e-c-h-p-r-o\""
   ]
  },
  {
   "cell_type": "code",
   "execution_count": 11,
   "metadata": {},
   "outputs": [
    {
     "name": "stdout",
     "output_type": "stream",
     "text": [
      "t-e-c-h-p-r-o-"
     ]
    }
   ],
   "source": [
    "for i in \"techpro\":\n",
    "    print(i, end=\"-\")"
   ]
  },
  {
   "cell_type": "code",
   "execution_count": 13,
   "metadata": {},
   "outputs": [
    {
     "name": "stdout",
     "output_type": "stream",
     "text": [
      "t-e-c-h-p-r-o"
     ]
    }
   ],
   "source": [
    "count = 0\n",
    "for i in \"techpro\":\n",
    "    count += 1\n",
    "    if count < len(\"techpro\"):\n",
    "        i = i + \"-\"\n",
    "    print(i, end=\"\")\n"
   ]
  },
  {
   "cell_type": "code",
   "execution_count": 14,
   "metadata": {},
   "outputs": [
    {
     "name": "stdout",
     "output_type": "stream",
     "text": [
      "['t', '-', 'e', '-', 'c', '-', 'h', '-', 'p', '-', 'r', '-', 'o']\n"
     ]
    }
   ],
   "source": [
    "liste = list(\"techpro\")\n",
    "y=[]\n",
    "x=0\n",
    "while x < len(liste):\n",
    "    y.append(liste[x])\n",
    "    x += 1\n",
    "    if x<len(liste) :\n",
    "        y.append(\"-\")\n",
    "print(y) "
   ]
  },
  {
   "cell_type": "code",
   "execution_count": 15,
   "metadata": {},
   "outputs": [
    {
     "name": "stdout",
     "output_type": "stream",
     "text": [
      "t-e-c-h-p-r-o"
     ]
    }
   ],
   "source": [
    "for i in y:\n",
    "    print(i,end=\"\")"
   ]
  },
  {
   "cell_type": "code",
   "execution_count": 19,
   "metadata": {},
   "outputs": [
    {
     "name": "stdout",
     "output_type": "stream",
     "text": [
      "t-e-c-h-p-r-o\n"
     ]
    }
   ],
   "source": [
    "empty_str = \"\"\n",
    "for i in \"techpro\":\n",
    "    empty_str += (i + \"-\")\n",
    "result = empty_str.rstrip(\"-\")\n",
    "print(result)"
   ]
  },
  {
   "cell_type": "code",
   "execution_count": 22,
   "metadata": {},
   "outputs": [
    {
     "data": {
      "text/plain": [
       "('t', 'e', 'c', 'h', 'p', 'r', 'o')"
      ]
     },
     "execution_count": 22,
     "metadata": {},
     "output_type": "execute_result"
    }
   ],
   "source": [
    "a = tuple(\"techpro\")\n",
    "a"
   ]
  },
  {
   "cell_type": "code",
   "execution_count": 23,
   "metadata": {},
   "outputs": [
    {
     "name": "stdout",
     "output_type": "stream",
     "text": [
      "t\n",
      "e\n",
      "c\n",
      "h\n",
      "p\n",
      "r\n",
      "o\n"
     ]
    }
   ],
   "source": [
    "for i in a:\n",
    "    print(i)"
   ]
  },
  {
   "cell_type": "code",
   "execution_count": 25,
   "metadata": {},
   "outputs": [
    {
     "data": {
      "text/plain": [
       "{'a', 'b', 'h', 'i', 'm', 'r'}"
      ]
     },
     "execution_count": 25,
     "metadata": {},
     "output_type": "execute_result"
    }
   ],
   "source": [
    "b = set(\"ibrahim\")\n",
    "b"
   ]
  },
  {
   "cell_type": "code",
   "execution_count": 27,
   "metadata": {},
   "outputs": [
    {
     "name": "stdout",
     "output_type": "stream",
     "text": [
      "r\n",
      "i\n",
      "a\n",
      "m\n",
      "b\n",
      "h\n"
     ]
    }
   ],
   "source": [
    "for i in b:\n",
    "    print(i)\n"
   ]
  },
  {
   "cell_type": "code",
   "execution_count": 28,
   "metadata": {},
   "outputs": [],
   "source": [
    "dict_1 = {\"name\" : \"ömer\", \"surname\": \"Gökdemir\", \"age\": 24}"
   ]
  },
  {
   "cell_type": "code",
   "execution_count": 29,
   "metadata": {},
   "outputs": [
    {
     "name": "stdout",
     "output_type": "stream",
     "text": [
      "name\n",
      "surname\n",
      "age\n"
     ]
    }
   ],
   "source": [
    "for i in dict_1:\n",
    "    print(i)"
   ]
  },
  {
   "cell_type": "code",
   "execution_count": 30,
   "metadata": {},
   "outputs": [
    {
     "name": "stdout",
     "output_type": "stream",
     "text": [
      "name\n",
      "surname\n",
      "age\n"
     ]
    }
   ],
   "source": [
    "for i in dict_1.keys():\n",
    "    print(i)"
   ]
  },
  {
   "cell_type": "code",
   "execution_count": 31,
   "metadata": {},
   "outputs": [
    {
     "name": "stdout",
     "output_type": "stream",
     "text": [
      "ömer\n",
      "Gökdemir\n",
      "24\n"
     ]
    }
   ],
   "source": [
    "for i in dict_1.values():\n",
    "    print(i)"
   ]
  },
  {
   "cell_type": "code",
   "execution_count": 32,
   "metadata": {},
   "outputs": [
    {
     "data": {
      "text/plain": [
       "dict_values(['ömer', 'Gökdemir', 24])"
      ]
     },
     "execution_count": 32,
     "metadata": {},
     "output_type": "execute_result"
    }
   ],
   "source": [
    "dict_1.values()"
   ]
  },
  {
   "cell_type": "code",
   "execution_count": 33,
   "metadata": {},
   "outputs": [
    {
     "name": "stdout",
     "output_type": "stream",
     "text": [
      "('name', 'ömer')\n",
      "('surname', 'Gökdemir')\n",
      "('age', 24)\n"
     ]
    }
   ],
   "source": [
    "for i in dict_1.items():\n",
    "    print(i)"
   ]
  },
  {
   "cell_type": "code",
   "execution_count": 34,
   "metadata": {},
   "outputs": [
    {
     "data": {
      "text/plain": [
       "dict_items([('name', 'ömer'), ('surname', 'Gökdemir'), ('age', 24)])"
      ]
     },
     "execution_count": 34,
     "metadata": {},
     "output_type": "execute_result"
    }
   ],
   "source": [
    "dict_1.items()"
   ]
  },
  {
   "cell_type": "code",
   "execution_count": 35,
   "metadata": {},
   "outputs": [
    {
     "name": "stdout",
     "output_type": "stream",
     "text": [
      "key: name, value: ömer\n",
      "key: surname, value: Gökdemir\n",
      "key: age, value: 24\n"
     ]
    }
   ],
   "source": [
    "for key, value in dict_1.items():\n",
    "    print(f\"key: {key}, value: {value}\")"
   ]
  },
  {
   "cell_type": "code",
   "execution_count": 36,
   "metadata": {},
   "outputs": [
    {
     "data": {
      "text/plain": [
       "<zip at 0x2bcdc83f940>"
      ]
     },
     "execution_count": 36,
     "metadata": {},
     "output_type": "execute_result"
    }
   ],
   "source": [
    "zip(\"techpro\", [1,2,3,4], (5,6,7,8))"
   ]
  },
  {
   "cell_type": "code",
   "execution_count": 38,
   "metadata": {},
   "outputs": [
    {
     "data": {
      "text/plain": [
       "[('t', 1, 5), ('e', 2, 6), ('c', 3, 7), ('h', 4, 8)]"
      ]
     },
     "execution_count": 38,
     "metadata": {},
     "output_type": "execute_result"
    }
   ],
   "source": [
    "zip_1 = list(zip(\"techpro\", [1,2,3,4], (5,6,7,8)))\n",
    "zip_1"
   ]
  },
  {
   "cell_type": "code",
   "execution_count": 39,
   "metadata": {},
   "outputs": [
    {
     "name": "stdout",
     "output_type": "stream",
     "text": [
      "t 1 5\n",
      "e 2 6\n",
      "c 3 7\n",
      "h 4 8\n"
     ]
    }
   ],
   "source": [
    "for i,j,k in zip_1:\n",
    "    print(i,j,k)"
   ]
  },
  {
   "cell_type": "code",
   "execution_count": 41,
   "metadata": {},
   "outputs": [
    {
     "data": {
      "text/plain": [
       "'dçvnlcs'"
      ]
     },
     "execution_count": 41,
     "metadata": {},
     "output_type": "execute_result"
    }
   ],
   "source": [
    "ceza = input(\"yazılacak şey girin \")\n",
    "ceza"
   ]
  },
  {
   "cell_type": "code",
   "execution_count": 42,
   "metadata": {},
   "outputs": [
    {
     "name": "stdout",
     "output_type": "stream",
     "text": [
      "ceza aldık iyi mi?\n",
      "ceza aldık iyi mi?\n",
      "ceza aldık iyi mi?\n",
      "ceza aldık iyi mi?\n",
      "ceza aldık iyi mi?\n",
      "ceza aldık iyi mi?\n",
      "ceza aldık iyi mi?\n",
      "ceza aldık iyi mi?\n",
      "ceza aldık iyi mi?\n",
      "ceza aldık iyi mi?\n",
      "ceza aldık iyi mi?\n",
      "ceza aldık iyi mi?\n",
      "ceza aldık iyi mi?\n",
      "ceza aldık iyi mi?\n",
      "ceza aldık iyi mi?\n",
      "ceza aldık iyi mi?\n",
      "ceza aldık iyi mi?\n",
      "ceza aldık iyi mi?\n",
      "ceza aldık iyi mi?\n",
      "ceza aldık iyi mi?\n",
      "ceza aldık iyi mi?\n",
      "ceza aldık iyi mi?\n",
      "ceza aldık iyi mi?\n",
      "ceza aldık iyi mi?\n",
      "ceza aldık iyi mi?\n",
      "ceza aldık iyi mi?\n",
      "ceza aldık iyi mi?\n",
      "ceza aldık iyi mi?\n",
      "ceza aldık iyi mi?\n",
      "ceza aldık iyi mi?\n",
      "ceza aldık iyi mi?\n",
      "ceza aldık iyi mi?\n",
      "ceza aldık iyi mi?\n",
      "ceza aldık iyi mi?\n",
      "ceza aldık iyi mi?\n",
      "ceza aldık iyi mi?\n",
      "ceza aldık iyi mi?\n",
      "ceza aldık iyi mi?\n",
      "ceza aldık iyi mi?\n",
      "ceza aldık iyi mi?\n",
      "ceza aldık iyi mi?\n",
      "ceza aldık iyi mi?\n",
      "ceza aldık iyi mi?\n",
      "ceza aldık iyi mi?\n",
      "ceza aldık iyi mi?\n",
      "ceza aldık iyi mi?\n",
      "ceza aldık iyi mi?\n",
      "ceza aldık iyi mi?\n",
      "ceza aldık iyi mi?\n",
      "ceza aldık iyi mi?\n"
     ]
    }
   ],
   "source": [
    "ceza = input(\"cümlenizi giriniz\")\n",
    "for i in range(50):\n",
    "    print(ceza) "
   ]
  },
  {
   "cell_type": "code",
   "execution_count": 46,
   "metadata": {},
   "outputs": [
    {
     "data": {
      "text/plain": [
       "50"
      ]
     },
     "execution_count": 46,
     "metadata": {},
     "output_type": "execute_result"
    }
   ],
   "source": [
    "len(list(range(50)))"
   ]
  },
  {
   "cell_type": "code",
   "execution_count": 48,
   "metadata": {},
   "outputs": [
    {
     "name": "stdout",
     "output_type": "stream",
     "text": [
      "1 ile 10 arasında bir sayı girmeni istemiştik.\n"
     ]
    }
   ],
   "source": [
    "number = int(input(\"1 den 10 a kadar bir sayı girin\"))\n",
    "\n",
    "if number in [1,2,3,4,5,6,7,8,9,10]:\n",
    "    for i in range(0,11):\n",
    "        print(f\"{number} x {i} = {number * i}\")\n",
    "\n",
    "else:\n",
    "    print(\"1 ile 10 arasında bir sayı girmeni istemiştik.\")\n",
    "\n"
   ]
  },
  {
   "cell_type": "code",
   "execution_count": 50,
   "metadata": {},
   "outputs": [
    {
     "name": "stdout",
     "output_type": "stream",
     "text": [
      "9 x 0 = 0\n",
      "9 x 1 = 9\n",
      "9 x 2 = 18\n",
      "9 x 3 = 27\n",
      "9 x 4 = 36\n",
      "9 x 5 = 45\n",
      "9 x 6 = 54\n",
      "9 x 7 = 63\n",
      "9 x 8 = 72\n",
      "9 x 9 = 81\n",
      "9 x 10 = 90\n"
     ]
    }
   ],
   "source": [
    "while True:    \n",
    "    number = int(input(\"1 den 10 a kadar bir sayı girin\"))\n",
    "\n",
    "    if number in [1,2,3,4,5,6,7,8,9,10]:\n",
    "        for i in range(0,11):\n",
    "            print(f\"{number} x {i} = {number * i}\")\n",
    "        break\n",
    "    else:\n",
    "        print(\"1 ile 10 arasında bir sayı girmeni istemiştik. Lütfen doğru sayı gir\")\n",
    "        number = int(input(\"1 den 10 a kadar bir sayı girin\"))"
   ]
  },
  {
   "cell_type": "code",
   "execution_count": 51,
   "metadata": {},
   "outputs": [
    {
     "name": "stdout",
     "output_type": "stream",
     "text": [
      "[1, 3, 5, 7, 9]\n",
      "[0, 2, 4, 6, 8, 10]\n"
     ]
    }
   ],
   "source": [
    "odds = []\n",
    "evens = []\n",
    "for i in range(11):\n",
    "    if i % 2:\n",
    "        odds.append(i)\n",
    "    else:\n",
    "        evens.append(i)\n",
    "print(odds)\n",
    "print(evens)\n",
    "\n"
   ]
  },
  {
   "cell_type": "code",
   "execution_count": 52,
   "metadata": {},
   "outputs": [
    {
     "data": {
      "text/plain": [
       "1275.0"
      ]
     },
     "execution_count": 52,
     "metadata": {},
     "output_type": "execute_result"
    }
   ],
   "source": [
    "50 *51 / 2"
   ]
  },
  {
   "cell_type": "code",
   "execution_count": 53,
   "metadata": {},
   "outputs": [
    {
     "data": {
      "text/plain": [
       "1275"
      ]
     },
     "execution_count": 53,
     "metadata": {},
     "output_type": "execute_result"
    }
   ],
   "source": [
    "toplam = 0\n",
    "for i in range(1,51):\n",
    "    toplam += i\n",
    "toplam"
   ]
  },
  {
   "cell_type": "code",
   "execution_count": 54,
   "metadata": {},
   "outputs": [
    {
     "data": {
      "text/plain": [
       "1275"
      ]
     },
     "execution_count": 54,
     "metadata": {},
     "output_type": "execute_result"
    }
   ],
   "source": [
    "x = int(input(\"bir sayı girin\"))\n",
    "\n",
    "toplam = 0\n",
    "\n",
    "for i in range(x+1):\n",
    "    toplam += i\n",
    "\n",
    "toplam"
   ]
  },
  {
   "cell_type": "code",
   "execution_count": 55,
   "metadata": {},
   "outputs": [
    {
     "data": {
      "text/plain": [
       "1275"
      ]
     },
     "execution_count": 55,
     "metadata": {},
     "output_type": "execute_result"
    }
   ],
   "source": [
    "sum(list(range(51)))"
   ]
  },
  {
   "cell_type": "code",
   "execution_count": 56,
   "metadata": {},
   "outputs": [
    {
     "data": {
      "text/plain": [
       "15"
      ]
     },
     "execution_count": 56,
     "metadata": {},
     "output_type": "execute_result"
    }
   ],
   "source": [
    "sum([1,2,3,4,5])"
   ]
  },
  {
   "cell_type": "code",
   "execution_count": 57,
   "metadata": {},
   "outputs": [
    {
     "ename": "TypeError",
     "evalue": "unsupported operand type(s) for +: 'int' and 'str'",
     "output_type": "error",
     "traceback": [
      "\u001b[1;31m---------------------------------------------------------------------------\u001b[0m",
      "\u001b[1;31mTypeError\u001b[0m                                 Traceback (most recent call last)",
      "\u001b[1;32m~\\AppData\\Local\\Temp/ipykernel_10992/3048496845.py\u001b[0m in \u001b[0;36m<module>\u001b[1;34m\u001b[0m\n\u001b[1;32m----> 1\u001b[1;33m \u001b[0msum\u001b[0m\u001b[1;33m(\u001b[0m\u001b[1;33m[\u001b[0m\u001b[1;34m\"a\"\u001b[0m\u001b[1;33m,\u001b[0m\u001b[1;34m\"b\"\u001b[0m\u001b[1;33m,\u001b[0m\u001b[1;34m\"c\"\u001b[0m\u001b[1;33m]\u001b[0m\u001b[1;33m)\u001b[0m\u001b[1;33m\u001b[0m\u001b[1;33m\u001b[0m\u001b[0m\n\u001b[0m",
      "\u001b[1;31mTypeError\u001b[0m: unsupported operand type(s) for +: 'int' and 'str'"
     ]
    }
   ],
   "source": [
    "sum([\"a\",\"b\",\"c\"])"
   ]
  },
  {
   "cell_type": "code",
   "execution_count": 58,
   "metadata": {},
   "outputs": [
    {
     "data": {
      "text/plain": [
       "10"
      ]
     },
     "execution_count": 58,
     "metadata": {},
     "output_type": "execute_result"
    }
   ],
   "source": [
    "sum((1,2,3,4))"
   ]
  },
  {
   "cell_type": "code",
   "execution_count": 59,
   "metadata": {},
   "outputs": [
    {
     "data": {
      "text/plain": [
       "10.8"
      ]
     },
     "execution_count": 59,
     "metadata": {},
     "output_type": "execute_result"
    }
   ],
   "source": [
    "sum((1,2,3.3,4.5))"
   ]
  },
  {
   "cell_type": "code",
   "execution_count": 61,
   "metadata": {},
   "outputs": [
    {
     "data": {
      "text/plain": [
       "22"
      ]
     },
     "execution_count": 61,
     "metadata": {},
     "output_type": "execute_result"
    }
   ],
   "source": [
    "a = (1, 2, 3, 4, 5)\n",
    "x = sum(a, 7)\n",
    "x"
   ]
  },
  {
   "cell_type": "code",
   "execution_count": 62,
   "metadata": {},
   "outputs": [
    {
     "data": {
      "text/plain": [
       "range(0, 51)"
      ]
     },
     "execution_count": 62,
     "metadata": {},
     "output_type": "execute_result"
    }
   ],
   "source": [
    "range(51)"
   ]
  },
  {
   "cell_type": "code",
   "execution_count": null,
   "metadata": {},
   "outputs": [],
   "source": [
    "sum(range(51))"
   ]
  },
  {
   "cell_type": "code",
   "execution_count": 63,
   "metadata": {},
   "outputs": [
    {
     "name": "stdout",
     "output_type": "stream",
     "text": [
      "h e l l o\n"
     ]
    }
   ],
   "source": [
    "print(*\"hello\")"
   ]
  },
  {
   "cell_type": "code",
   "execution_count": 64,
   "metadata": {},
   "outputs": [
    {
     "name": "stdout",
     "output_type": "stream",
     "text": [
      "hello\n"
     ]
    }
   ],
   "source": [
    "print(\"hello\")"
   ]
  },
  {
   "cell_type": "markdown",
   "metadata": {},
   "source": [
    "armstrong numbers"
   ]
  },
  {
   "cell_type": "code",
   "execution_count": 76,
   "metadata": {},
   "outputs": [
    {
     "name": "stdout",
     "output_type": "stream",
     "text": [
      "407 sayısı armstrong bir sayıdır\n"
     ]
    }
   ],
   "source": [
    "number = input(\"Bir sayı girin\")\n",
    "\n",
    "x = len(number)\n",
    "toplam = 0\n",
    "\n",
    "for i in number:\n",
    "    toplam += int(i) ** x\n",
    "\n",
    "if int(number) == toplam:\n",
    "    print(f\"{number} sayısı armstrong bir sayıdır\")\n",
    "else:\n",
    "    print(f\"{number} sayısı armstrong bir sayı değildir\")\n"
   ]
  },
  {
   "cell_type": "code",
   "execution_count": null,
   "metadata": {},
   "outputs": [],
   "source": []
  }
 ],
 "metadata": {
  "kernelspec": {
   "display_name": "Python 3.9.7 ('base')",
   "language": "python",
   "name": "python3"
  },
  "language_info": {
   "codemirror_mode": {
    "name": "ipython",
    "version": 3
   },
   "file_extension": ".py",
   "mimetype": "text/x-python",
   "name": "python",
   "nbconvert_exporter": "python",
   "pygments_lexer": "ipython3",
   "version": "3.9.7"
  },
  "orig_nbformat": 4,
  "vscode": {
   "interpreter": {
    "hash": "0ed8b1f1204e3ec9fd00160a1836bd979d4552f7e99d1a18dc9610716eedd92b"
   }
  }
 },
 "nbformat": 4,
 "nbformat_minor": 2
}
