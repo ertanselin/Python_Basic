{
 "cells": [
  {
   "cell_type": "markdown",
   "metadata": {},
   "source": [
    "# Control Flow Statements"
   ]
  },
  {
   "cell_type": "markdown",
   "metadata": {},
   "source": [
    "## If-Elif-Else"
   ]
  },
  {
   "cell_type": "code",
   "execution_count": null,
   "metadata": {},
   "outputs": [],
   "source": [
    "koşul = True\n",
    "if koşul:\n",
    "    print(\"sonuç\")"
   ]
  },
  {
   "cell_type": "code",
   "execution_count": 1,
   "metadata": {},
   "outputs": [
    {
     "name": "stdout",
     "output_type": "stream",
     "text": [
      "burayı görürüz\n"
     ]
    }
   ],
   "source": [
    "if \"0\":\n",
    "    print(\"burayı görürüz\")"
   ]
  },
  {
   "cell_type": "code",
   "execution_count": 5,
   "metadata": {},
   "outputs": [
    {
     "data": {
      "text/plain": [
       "True"
      ]
     },
     "execution_count": 5,
     "metadata": {},
     "output_type": "execute_result"
    }
   ],
   "source": [
    "bool(\"254865dsfvsdvsdfv\")"
   ]
  },
  {
   "cell_type": "code",
   "execution_count": 6,
   "metadata": {},
   "outputs": [],
   "source": [
    "if 0:\n",
    "    print(\"burayı görürüz müyüz?\")"
   ]
  },
  {
   "cell_type": "code",
   "execution_count": 7,
   "metadata": {},
   "outputs": [
    {
     "name": "stdout",
     "output_type": "stream",
     "text": [
      "10 sayısı 5 ten büyüktür\n"
     ]
    }
   ],
   "source": [
    "if 10 > 5:\n",
    "    print(\"10 sayısı 5 ten büyüktür\")"
   ]
  },
  {
   "cell_type": "code",
   "execution_count": 8,
   "metadata": {},
   "outputs": [],
   "source": [
    "if 10 > 5:\n",
    "    x = 10 -5"
   ]
  },
  {
   "cell_type": "code",
   "execution_count": 9,
   "metadata": {},
   "outputs": [
    {
     "data": {
      "text/plain": [
       "5"
      ]
     },
     "execution_count": 9,
     "metadata": {},
     "output_type": "execute_result"
    }
   ],
   "source": [
    "x"
   ]
  },
  {
   "cell_type": "code",
   "execution_count": 11,
   "metadata": {},
   "outputs": [],
   "source": [
    "x = 5\n",
    "y = 15"
   ]
  },
  {
   "cell_type": "code",
   "execution_count": 13,
   "metadata": {},
   "outputs": [
    {
     "name": "stdout",
     "output_type": "stream",
     "text": [
      "True\n",
      "False\n",
      "True\n",
      "False\n",
      "False\n",
      "True\n"
     ]
    }
   ],
   "source": [
    "print(x < y) \n",
    "print(x > y)\n",
    "print(x <= y)\n",
    "print(x >= y)\n",
    "print(x == y)\n",
    "print(x != y)"
   ]
  },
  {
   "cell_type": "code",
   "execution_count": 14,
   "metadata": {},
   "outputs": [
    {
     "data": {
      "text/plain": [
       "False"
      ]
     },
     "execution_count": 14,
     "metadata": {},
     "output_type": "execute_result"
    }
   ],
   "source": [
    "\"sedat\" == \"Sedat\""
   ]
  },
  {
   "cell_type": "code",
   "execution_count": 17,
   "metadata": {},
   "outputs": [
    {
     "data": {
      "text/plain": [
       "False"
      ]
     },
     "execution_count": 17,
     "metadata": {},
     "output_type": "execute_result"
    }
   ],
   "source": [
    "\"sedat\" < \"Sedat\""
   ]
  },
  {
   "cell_type": "code",
   "execution_count": 15,
   "metadata": {},
   "outputs": [
    {
     "data": {
      "text/plain": [
       "115"
      ]
     },
     "execution_count": 15,
     "metadata": {},
     "output_type": "execute_result"
    }
   ],
   "source": [
    "ord(\"s\")"
   ]
  },
  {
   "cell_type": "code",
   "execution_count": 16,
   "metadata": {},
   "outputs": [
    {
     "data": {
      "text/plain": [
       "83"
      ]
     },
     "execution_count": 16,
     "metadata": {},
     "output_type": "execute_result"
    }
   ],
   "source": [
    "ord(\"S\")"
   ]
  },
  {
   "cell_type": "code",
   "execution_count": 18,
   "metadata": {},
   "outputs": [],
   "source": [
    "değişken = True"
   ]
  },
  {
   "cell_type": "code",
   "execution_count": 19,
   "metadata": {},
   "outputs": [
    {
     "data": {
      "text/plain": [
       "bool"
      ]
     },
     "execution_count": 19,
     "metadata": {},
     "output_type": "execute_result"
    }
   ],
   "source": [
    "type(değişken)"
   ]
  },
  {
   "cell_type": "code",
   "execution_count": 20,
   "metadata": {},
   "outputs": [
    {
     "data": {
      "text/plain": [
       "True"
      ]
     },
     "execution_count": 20,
     "metadata": {},
     "output_type": "execute_result"
    }
   ],
   "source": [
    "değişken = 10 > 5\n",
    "değişken"
   ]
  },
  {
   "cell_type": "code",
   "execution_count": 22,
   "metadata": {},
   "outputs": [
    {
     "name": "stdout",
     "output_type": "stream",
     "text": [
      "False\n"
     ]
    }
   ],
   "source": [
    "sayı = int(input(\"Bir sayı giriniz\"))\n",
    "print(sayı >= 10)"
   ]
  },
  {
   "cell_type": "code",
   "execution_count": 26,
   "metadata": {},
   "outputs": [
    {
     "name": "stdout",
     "output_type": "stream",
     "text": [
      "False\n"
     ]
    }
   ],
   "source": [
    "sayı = int(input(\"Bir sayı giriniz\")) >= 10\n",
    "print(sayı)"
   ]
  },
  {
   "cell_type": "code",
   "execution_count": 29,
   "metadata": {},
   "outputs": [
    {
     "data": {
      "text/plain": [
       "False"
      ]
     },
     "execution_count": 29,
     "metadata": {},
     "output_type": "execute_result"
    }
   ],
   "source": [
    "sayı1 = input(\"Bir sayı giriniz\")\n",
    "if sayı1.isdigit():\n",
    "    if \n"
   ]
  },
  {
   "cell_type": "code",
   "execution_count": null,
   "metadata": {},
   "outputs": [],
   "source": [
    "#yapısı bu şekilde\n",
    "if koşul:\n",
    "    \"çıktı\"\n",
    "elif koşul:\n",
    "    \"çıktı\"\n",
    "else:\n",
    "    \"çıktı\""
   ]
  },
  {
   "cell_type": "code",
   "execution_count": 32,
   "metadata": {},
   "outputs": [
    {
     "name": "stdout",
     "output_type": "stream",
     "text": [
      "Girdiğiniz sayı = 7 ve bu sayı tektir\n"
     ]
    }
   ],
   "source": [
    "x = int(input(\"Bir sayı girin\"))\n",
    "\n",
    "if x % 2 == 0:\n",
    "    print(f\"Girdiğiniz sayı = {x} ve bu sayı çifttir\")\n",
    "elif x % 2 == 1:\n",
    "    print(f\"Girdiğiniz sayı = {x} ve bu sayı tektir\")"
   ]
  },
  {
   "cell_type": "code",
   "execution_count": 34,
   "metadata": {},
   "outputs": [
    {
     "name": "stdout",
     "output_type": "stream",
     "text": [
      "Girdiğiniz sayı = 7 ve bu sayı tektir\n"
     ]
    }
   ],
   "source": [
    "x = int(input(\"Bir sayı girin\"))\n",
    "\n",
    "if x % 2 == 0:\n",
    "    print(f\"Girdiğiniz sayı = {x} ve bu sayı çifttir\")\n",
    "else:\n",
    "    print(f\"Girdiğiniz sayı = {x} ve bu sayı tektir\")"
   ]
  },
  {
   "cell_type": "code",
   "execution_count": 36,
   "metadata": {},
   "outputs": [
    {
     "name": "stdout",
     "output_type": "stream",
     "text": [
      "Girdiğiniz sayı = 7 ve bu sayı tektir\n"
     ]
    }
   ],
   "source": [
    "x = int(input(\"Bir sayı girin\"))\n",
    "\n",
    "if x % 2 :\n",
    "    print(f\"Girdiğiniz sayı = {x} ve bu sayı tektir\")\n",
    "else:\n",
    "    print(f\"Girdiğiniz sayı = {x} ve bu sayı çifttir\")"
   ]
  },
  {
   "cell_type": "code",
   "execution_count": 38,
   "metadata": {},
   "outputs": [
    {
     "name": "stdout",
     "output_type": "stream",
     "text": [
      "150 büyüktür 90\n"
     ]
    }
   ],
   "source": [
    "sayı_1 = int(input(\"Bir sayı girin\"))\n",
    "sayı_2 = int(input(\"Farklı bir sayı girin\"))\n",
    "\n",
    "if sayı_1 > sayı_2:\n",
    "    print(f\"{sayı_1} büyüktür {sayı_2}\")\n",
    "else:\n",
    "    print(f\"{sayı_2} büyüktür {sayı_1}\")"
   ]
  },
  {
   "cell_type": "code",
   "execution_count": 39,
   "metadata": {},
   "outputs": [
    {
     "name": "stdout",
     "output_type": "stream",
     "text": [
      "max number is 3\n"
     ]
    }
   ],
   "source": [
    "number_one = int(input(\"Bir sayı giriniz\"))\n",
    "number_two = int(input(\"Farklı bir sayı giriniz\"))\n",
    "number_three = int(input(\"Daha da farklı bir sayı giriniz\"))\n",
    "\n",
    "if number_one > number_two and number_one > number_three:\n",
    "    max_number = number_one\n",
    "elif number_two > number_one and number_two > number_three:\n",
    "    max_number = number_two\n",
    "else:\n",
    "    max_number = number_three\n",
    "\n",
    "print(f\"max number is {max_number}\")\n"
   ]
  },
  {
   "cell_type": "code",
   "execution_count": 40,
   "metadata": {},
   "outputs": [
    {
     "name": "stdout",
     "output_type": "stream",
     "text": [
      "3\n"
     ]
    }
   ],
   "source": [
    "number_one = int(input(\"Bir sayı giriniz\"))\n",
    "number_two = int(input(\"Farklı bir sayı giriniz\"))\n",
    "number_three = int(input(\"Daha da farklı bir sayı giriniz\"))\n",
    "\n",
    "liste = [number_one,number_two,number_three]\n",
    "\n",
    "print(max(liste))"
   ]
  },
  {
   "cell_type": "code",
   "execution_count": 41,
   "metadata": {},
   "outputs": [
    {
     "name": "stdout",
     "output_type": "stream",
     "text": [
      "9\n"
     ]
    }
   ],
   "source": [
    "liste = [int(input(\"birinci sayıyı giriniz:\")), int(input(\"ikinci sayıyı giriniz:\")), int(input(\"üçüncü sayıyı giriniz:\"))]\n",
    "print(max(liste))"
   ]
  },
  {
   "cell_type": "markdown",
   "metadata": {},
   "source": [
    "<img src=\"grade.jpg\">"
   ]
  },
  {
   "cell_type": "code",
   "execution_count": 44,
   "metadata": {},
   "outputs": [
    {
     "name": "stdout",
     "output_type": "stream",
     "text": [
      "Aldığınız puana denk gelen harf notunuz: A\n"
     ]
    }
   ],
   "source": [
    "note = int(input(\"Sınavdan aldığınız notu girin\"))\n",
    "\n",
    "if 0 <= note <= 100:\n",
    "    if note >= 80:\n",
    "        harf_notu = \"A\"\n",
    "    elif note >=65:\n",
    "        harf_notu = \"B\"\n",
    "    elif note >=55:\n",
    "        harf_notu = \"C\"\n",
    "    elif note >=50:\n",
    "        harf_notu = \"D\"\n",
    "    else:\n",
    "        harf_notu = \"F\"\n",
    "    print(f\"Aldığınız puana denk gelen harf notunuz: {harf_notu}\")\n",
    "else:\n",
    "    print(\"hatalı not girişi yaptınız\")"
   ]
  },
  {
   "cell_type": "markdown",
   "metadata": {},
   "source": [
    "# LOOPS"
   ]
  },
  {
   "cell_type": "markdown",
   "metadata": {},
   "source": [
    "## while"
   ]
  },
  {
   "cell_type": "code",
   "execution_count": null,
   "metadata": {},
   "outputs": [],
   "source": [
    "#\n",
    "while koşul:\n",
    "    \"çıktı\""
   ]
  },
  {
   "cell_type": "code",
   "execution_count": null,
   "metadata": {},
   "outputs": [],
   "source": [
    "#çalıştırma sonsuz döngü !\n",
    "sayı = 0\n",
    "\n",
    "while sayı < 5:\n",
    "    print(sayı)"
   ]
  },
  {
   "cell_type": "code",
   "execution_count": 48,
   "metadata": {},
   "outputs": [
    {
     "name": "stdout",
     "output_type": "stream",
     "text": [
      "0\n",
      "1\n",
      "2\n",
      "3\n",
      "4\n",
      "döngünün sonu\n"
     ]
    }
   ],
   "source": [
    "sayı = 0\n",
    "\n",
    "while sayı < 5:\n",
    "    print(sayı)\n",
    "    sayı = sayı + 1\n",
    "print(\"DÖNGÜNÜN SONU\".lower())"
   ]
  },
  {
   "cell_type": "code",
   "execution_count": 49,
   "metadata": {},
   "outputs": [
    {
     "name": "stdout",
     "output_type": "stream",
     "text": [
      "0\n",
      "döngünün sonu\n",
      "1\n",
      "döngünün sonu\n",
      "2\n",
      "döngünün sonu\n",
      "3\n",
      "döngünün sonu\n",
      "4\n",
      "döngünün sonu\n"
     ]
    }
   ],
   "source": [
    "sayı = 0\n",
    "\n",
    "while sayı < 5:\n",
    "    print(sayı)\n",
    "    sayı = sayı + 1\n",
    "    print(\"DÖNGÜNÜN SONU\".lower())"
   ]
  },
  {
   "cell_type": "code",
   "execution_count": null,
   "metadata": {},
   "outputs": [],
   "source": [
    "sayı_listesi = [1, 2, 3, 4, 5]\n",
    "\n",
    "x = 0\n",
    "\n",
    "while x < len(sayı_listesi):\n",
    "    print(sayı_listesi[x] ** 2)\n",
    "    #x += 1"
   ]
  },
  {
   "cell_type": "code",
   "execution_count": 52,
   "metadata": {},
   "outputs": [
    {
     "name": "stdout",
     "output_type": "stream",
     "text": [
      "sanki yazdırmaz\n"
     ]
    }
   ],
   "source": [
    "while 0:\n",
    "    print(\"yazdırır mı?\")\n",
    "print(\"sanki yazdırmaz\")"
   ]
  },
  {
   "cell_type": "code",
   "execution_count": 53,
   "metadata": {},
   "outputs": [
    {
     "name": "stdout",
     "output_type": "stream",
     "text": [
      "False olursa çalıştırmam tabi!\n"
     ]
    }
   ],
   "source": [
    "while []:\n",
    "    print(\"yine çalıştırmayak\")\n",
    "print(\"False olursa çalıştırmam tabi!\")"
   ]
  },
  {
   "cell_type": "code",
   "execution_count": 1,
   "metadata": {},
   "outputs": [
    {
     "name": "stdout",
     "output_type": "stream",
     "text": [
      "Girdiğiniz sayı 25 Tahminini arttır\n",
      "Girdiğiniz sayı 40 Tahminini arttır\n",
      "Girdiğiniz sayı 60. Tahminini azalt\n",
      "Bravo!. Sonunda doğru tahmin ettin\n",
      "4 denemede tahmin ettin\n"
     ]
    }
   ],
   "source": [
    "sayı = 55\n",
    "tahmin_sayısı = 0\n",
    "\n",
    "while True:\n",
    "\n",
    "    tahmin = int(input(\"Sayıyı tahmin edin\"))\n",
    "\n",
    "    if sayı < tahmin:\n",
    "        print(f\"Girdiğiniz sayı {tahmin}. Tahminini azalt\")\n",
    "        tahmin_sayısı += 1\n",
    "    elif sayı > tahmin:\n",
    "        print(f\"Girdiğiniz sayı {tahmin} Tahminini arttır\")\n",
    "        tahmin_sayısı += 1\n",
    "    else:\n",
    "        print(\"Bravo!. Sonunda doğru tahmin ettin\")\n",
    "        tahmin_sayısı += 1\n",
    "        break\n",
    "print(f\"{tahmin_sayısı} denemede tahmin ettin\")\n"
   ]
  },
  {
   "cell_type": "markdown",
   "metadata": {},
   "source": [
    "### random()"
   ]
  },
  {
   "cell_type": "code",
   "execution_count": 2,
   "metadata": {},
   "outputs": [],
   "source": [
    "import random as rd # as >> alias"
   ]
  },
  {
   "cell_type": "code",
   "execution_count": 3,
   "metadata": {},
   "outputs": [],
   "source": [
    "import random"
   ]
  },
  {
   "cell_type": "code",
   "execution_count": 4,
   "metadata": {},
   "outputs": [
    {
     "data": {
      "text/plain": [
       "0.5380755496033616"
      ]
     },
     "execution_count": 4,
     "metadata": {},
     "output_type": "execute_result"
    }
   ],
   "source": [
    "random.random()"
   ]
  },
  {
   "cell_type": "code",
   "execution_count": 5,
   "metadata": {},
   "outputs": [
    {
     "data": {
      "text/plain": [
       "0.5811521325045647"
      ]
     },
     "execution_count": 5,
     "metadata": {},
     "output_type": "execute_result"
    }
   ],
   "source": [
    "random.seed(101)\n",
    "random.random()"
   ]
  },
  {
   "cell_type": "code",
   "execution_count": 17,
   "metadata": {},
   "outputs": [
    {
     "data": {
      "text/plain": [
       "72"
      ]
     },
     "execution_count": 17,
     "metadata": {},
     "output_type": "execute_result"
    }
   ],
   "source": [
    "random.randint(10,99)"
   ]
  },
  {
   "cell_type": "code",
   "execution_count": 1,
   "metadata": {},
   "outputs": [
    {
     "name": "stdout",
     "output_type": "stream",
     "text": [
      "Girdiğiniz sayı 50 Tahminini arttır\n",
      "Girdiğiniz sayı 75. Tahminini azalt\n",
      "Girdiğiniz sayı 62 Tahminini arttır\n",
      "Girdiğiniz sayı 69. Tahminini azalt\n",
      "Girdiğiniz sayı 65 Tahminini arttır\n",
      "Bravo!. Sonunda doğru tahmin ettin\n",
      "6 denemede tahmin ettin\n"
     ]
    }
   ],
   "source": [
    "import random\n",
    "\n",
    "sayı = random.randint(0,100)\n",
    "tahmin_sayısı = 0\n",
    "\n",
    "while True:\n",
    "\n",
    "    tahmin = int(input(\"Sayıyı tahmin edin\"))\n",
    "\n",
    "    if sayı < tahmin:\n",
    "        print(f\"Girdiğiniz sayı {tahmin}. Tahminini azalt\")\n",
    "        tahmin_sayısı += 1\n",
    "    elif sayı > tahmin:\n",
    "        print(f\"Girdiğiniz sayı {tahmin} Tahminini arttır\")\n",
    "        tahmin_sayısı += 1\n",
    "    else:\n",
    "        print(\"Bravo!. Sonunda doğru tahmin ettin\")\n",
    "        tahmin_sayısı += 1\n",
    "        break\n",
    "print(f\"{tahmin_sayısı} denemede tahmin ettin\")"
   ]
  },
  {
   "cell_type": "code",
   "execution_count": 4,
   "metadata": {},
   "outputs": [
    {
     "name": "stdout",
     "output_type": "stream",
     "text": [
      "Girdiğiniz sayı 40 Tahminini arttır\n",
      "Girdiğiniz sayı 70. Tahminini azalt\n",
      "Girdiğiniz sayı 70. Tahminini azalt\n",
      "Girdiğiniz sayı 55 Tahminini arttır\n",
      "Girdiğiniz sayı 61 Tahminini arttır\n",
      "3 denemede bulamadın\n"
     ]
    }
   ],
   "source": [
    "import random\n",
    "\n",
    "sayı = random.randint(0,100)\n",
    "\n",
    "döngü_sayısı = 0\n",
    "\n",
    "while döngü_sayısı < 5:\n",
    "\n",
    "    tahmin = int(input(\"Sayıyı tahmin edin\"))\n",
    "\n",
    "    if sayı < tahmin:\n",
    "        print(f\"Girdiğiniz sayı {tahmin}. Tahminini azalt\")\n",
    "        döngü_sayısı += 1\n",
    "    elif sayı > tahmin:\n",
    "        print(f\"Girdiğiniz sayı {tahmin} Tahminini arttır\")\n",
    "        döngü_sayısı += 1\n",
    "    else:\n",
    "        print(\"Bravo!. Sonunda doğru tahmin ettin\")\n",
    "        break\n",
    "print(\"5 denemede bulamadın\")"
   ]
  },
  {
   "cell_type": "code",
   "execution_count": 7,
   "metadata": {},
   "outputs": [],
   "source": [
    "liste = [12, 17, 25, 48, 23, 14, 16]"
   ]
  },
  {
   "cell_type": "code",
   "execution_count": 8,
   "metadata": {},
   "outputs": [
    {
     "data": {
      "text/plain": [
       "48"
      ]
     },
     "execution_count": 8,
     "metadata": {},
     "output_type": "execute_result"
    }
   ],
   "source": [
    "max(liste)"
   ]
  },
  {
   "cell_type": "code",
   "execution_count": 11,
   "metadata": {},
   "outputs": [
    {
     "name": "stdout",
     "output_type": "stream",
     "text": [
      "You typed an invalid number, you lose!\n"
     ]
    }
   ],
   "source": [
    "import random\n",
    "rock = '''\n",
    "    _______\n",
    "---'   ____)\n",
    "      (_____)\n",
    "      (_____)\n",
    "      (____)\n",
    "---._(__)\n",
    "'''\n",
    "paper = '''\n",
    "    _______\n",
    "---'   ___)___\n",
    "          ______)\n",
    "          _______)\n",
    "         _______)\n",
    "---.__________)\n",
    "'''\n",
    "scissors = '''\n",
    "    _______\n",
    "---'   ___)___\n",
    "          ______)\n",
    "       __________)\n",
    "      (____)\n",
    "---._(__)\n",
    "'''\n",
    "game_images = [rock, paper, scissors]\n",
    "user_choice = int(input(\"What do you choose? Type 0 for Rock, 1 for Paper or 2 for Scissors.\\n\"))\n",
    "if user_choice >= 3 or user_choice < 0: \n",
    "    print(\"You typed an invalid number, you lose!\") \n",
    "else:\n",
    "    print(\"Your chose:\")\n",
    "    print(game_images[user_choice])\n",
    "    computer_choice = random.randint(0, 2)\n",
    "    print(\"Computer chose:\")\n",
    "    print(game_images[computer_choice])\n",
    "    if user_choice == 0 and computer_choice == 2:\n",
    "        print(\"You win!\")\n",
    "    elif computer_choice == 0 and user_choice == 2:\n",
    "        print(\"You lose\")\n",
    "    elif computer_choice > user_choice:\n",
    "        print(\"You lose\")\n",
    "    elif user_choice > computer_choice:\n",
    "        print(\"You win!\")\n",
    "    elif computer_choice == user_choice:\n",
    "        print(\"It's a draw\")"
   ]
  },
  {
   "cell_type": "code",
   "execution_count": null,
   "metadata": {},
   "outputs": [],
   "source": [
    "##Debugging challenge:\n",
    "#Try running this code and type 5.\n",
    "#It will give you an IndexError and point to line 32 as the issue.\n",
    "#But on line 38 we are trying to prevent a crash by detecting\n",
    "#any numbers great than or equal to 3 or less than 0.\n",
    "#So what's going on?\n",
    "#Can you debug the code and fix it?"
   ]
  },
  {
   "cell_type": "code",
   "execution_count": null,
   "metadata": {},
   "outputs": [],
   "source": []
  },
  {
   "cell_type": "code",
   "execution_count": null,
   "metadata": {},
   "outputs": [],
   "source": []
  }
 ],
 "metadata": {
  "kernelspec": {
   "display_name": "Python 3.9.7 ('base')",
   "language": "python",
   "name": "python3"
  },
  "language_info": {
   "codemirror_mode": {
    "name": "ipython",
    "version": 3
   },
   "file_extension": ".py",
   "mimetype": "text/x-python",
   "name": "python",
   "nbconvert_exporter": "python",
   "pygments_lexer": "ipython3",
   "version": "3.9.7"
  },
  "orig_nbformat": 4,
  "vscode": {
   "interpreter": {
    "hash": "0ed8b1f1204e3ec9fd00160a1836bd979d4552f7e99d1a18dc9610716eedd92b"
   }
  }
 },
 "nbformat": 4,
 "nbformat_minor": 2
}
